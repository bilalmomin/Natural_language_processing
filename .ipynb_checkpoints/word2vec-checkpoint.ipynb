{
 "cells": [
  {
   "cell_type": "code",
   "execution_count": 10,
   "metadata": {},
   "outputs": [],
   "source": [
    "#Importing nltk library\n",
    "import nltk\n",
    "import re # this is required for text preprocessing\n",
    "from nltk.corpus import stopwords \n",
    "from nltk.stem.porter import PorterStemmer\n",
    "from nltk.stem import WordNetLemmatizer\n",
    "import pandas as pd"
   ]
  },
  {
   "cell_type": "code",
   "execution_count": 11,
   "metadata": {},
   "outputs": [],
   "source": [
    "paragraph = \"\"\"I have three visions for India. In 3000 years of our history, people from all over \n",
    "               the world have come and invaded us, captured our lands, conquered our minds. \n",
    "               From Alexander onwards, the Greeks, the Turks, the Moguls, the Portuguese, the British,\n",
    "               the French, the Dutch, all of them came and looted us, took over what was ours. \n",
    "               Yet we have not done this to any other nation. We have not conquered anyone. \n",
    "               We have not grabbed their land, their culture, \n",
    "               their history and tried to enforce our way of life on them. \n",
    "               Why? Because we respect the freedom of others.That is why my \n",
    "               first vision is that of freedom. I believe that India got its first vision of \n",
    "               this in 1857, when we started the War of Independence. It is this freedom that\n",
    "               we must protect and nurture and build on. If we are not free, no one will respect us.\n",
    "               My second vision for India’s development. For fifty years we have been a developing nation.\n",
    "               It is time we see ourselves as a developed nation. We are among the top 5 nations of the world\n",
    "               in terms of GDP. We have a 10 percent growth rate in most areas. Our poverty levels are falling.\n",
    "               Our achievements are being globally recognised today. Yet we lack the self-confidence to\n",
    "               see ourselves as a developed nation, self-reliant and self-assured. Isn’t this incorrect?\n",
    "               I have a third vision. India must stand up to the world. Because I believe that unless India \n",
    "               stands up to the world, no one will respect us. Only strength respects strength. We must be \n",
    "               strong not only as a military power but also as an economic power. Both must go hand-in-hand. \n",
    "               My good fortune was to have worked with three great minds. Dr. Vikram Sarabhai of the Dept. of \n",
    "               space, Professor Satish Dhawan, who succeeded him and Dr. Brahm Prakash, father of nuclear material.\n",
    "               I was lucky to have worked with all three of them closely and consider this the great opportunity of my life. \n",
    "               I see four milestones in my career\"\"\""
   ]
  },
  {
   "cell_type": "markdown",
   "metadata": {},
   "source": [
    "### Data preprocessing"
   ]
  },
  {
   "cell_type": "code",
   "execution_count": 12,
   "metadata": {},
   "outputs": [],
   "source": [
    "text = re.sub(r'\\[[0-9]*\\]', ' ', paragraph) #removing the numbers\n",
    "text = re.sub(r'\\s+', ' ', text) #removing the whitespaces\n",
    "text = text.lower()\n",
    "text = re.sub(r'\\d', ' ', text)\n",
    "text = re.sub(r'\\s+', ' ', text)\n"
   ]
  },
  {
   "cell_type": "markdown",
   "metadata": {},
   "source": [
    "### Preparing data set"
   ]
  },
  {
   "cell_type": "code",
   "execution_count": 13,
   "metadata": {},
   "outputs": [],
   "source": [
    "sentences = nltk.sent_tokenize(text)"
   ]
  },
  {
   "cell_type": "code",
   "execution_count": 14,
   "metadata": {},
   "outputs": [],
   "source": [
    "sentences = [nltk.word_tokenize(word) for word in sentences]"
   ]
  },
  {
   "cell_type": "code",
   "execution_count": 15,
   "metadata": {},
   "outputs": [],
   "source": [
    "#removing stop words\n",
    "for i in range(len(sentences)):\n",
    "    sentences[i] = [word for word in sentences[i] if word not in stopwords.words('english') ]"
   ]
  },
  {
   "cell_type": "code",
   "execution_count": 16,
   "metadata": {},
   "outputs": [
    {
     "data": {
      "text/plain": [
       "[['three', 'visions', 'india', '.'],\n",
       " ['years',\n",
       "  'history',\n",
       "  ',',\n",
       "  'people',\n",
       "  'world',\n",
       "  'come',\n",
       "  'invaded',\n",
       "  'us',\n",
       "  ',',\n",
       "  'captured',\n",
       "  'lands',\n",
       "  ',',\n",
       "  'conquered',\n",
       "  'minds',\n",
       "  '.'],\n",
       " ['alexander',\n",
       "  'onwards',\n",
       "  ',',\n",
       "  'greeks',\n",
       "  ',',\n",
       "  'turks',\n",
       "  ',',\n",
       "  'moguls',\n",
       "  ',',\n",
       "  'portuguese',\n",
       "  ',',\n",
       "  'british',\n",
       "  ',',\n",
       "  'french',\n",
       "  ',',\n",
       "  'dutch',\n",
       "  ',',\n",
       "  'came',\n",
       "  'looted',\n",
       "  'us',\n",
       "  ',',\n",
       "  'took',\n",
       "  '.'],\n",
       " ['yet', 'done', 'nation', '.'],\n",
       " ['conquered', 'anyone', '.'],\n",
       " ['grabbed',\n",
       "  'land',\n",
       "  ',',\n",
       "  'culture',\n",
       "  ',',\n",
       "  'history',\n",
       "  'tried',\n",
       "  'enforce',\n",
       "  'way',\n",
       "  'life',\n",
       "  '.'],\n",
       " ['?'],\n",
       " ['respect', 'freedom', 'others.that', 'first', 'vision', 'freedom', '.'],\n",
       " ['believe',\n",
       "  'india',\n",
       "  'got',\n",
       "  'first',\n",
       "  'vision',\n",
       "  ',',\n",
       "  'started',\n",
       "  'war',\n",
       "  'independence',\n",
       "  '.'],\n",
       " ['freedom', 'must', 'protect', 'nurture', 'build', '.'],\n",
       " ['free', ',', 'one', 'respect', 'us', '.'],\n",
       " ['second', 'vision', 'india', '’', 'development', '.'],\n",
       " ['fifty', 'years', 'developing', 'nation', '.'],\n",
       " ['time', 'see', 'developed', 'nation', '.'],\n",
       " ['among', 'top', 'nations', 'world', 'terms', 'gdp', '.'],\n",
       " ['percent', 'growth', 'rate', 'areas', '.'],\n",
       " ['poverty', 'levels', 'falling', '.'],\n",
       " ['achievements', 'globally', 'recognised', 'today', '.'],\n",
       " ['yet',\n",
       "  'lack',\n",
       "  'self-confidence',\n",
       "  'see',\n",
       "  'developed',\n",
       "  'nation',\n",
       "  ',',\n",
       "  'self-reliant',\n",
       "  'self-assured',\n",
       "  '.'],\n",
       " ['’', 'incorrect', '?'],\n",
       " ['third', 'vision', '.'],\n",
       " ['india', 'must', 'stand', 'world', '.'],\n",
       " ['believe',\n",
       "  'unless',\n",
       "  'india',\n",
       "  'stands',\n",
       "  'world',\n",
       "  ',',\n",
       "  'one',\n",
       "  'respect',\n",
       "  'us',\n",
       "  '.'],\n",
       " ['strength', 'respects', 'strength', '.'],\n",
       " ['must', 'strong', 'military', 'power', 'also', 'economic', 'power', '.'],\n",
       " ['must', 'go', 'hand-in-hand', '.'],\n",
       " ['good', 'fortune', 'worked', 'three', 'great', 'minds', '.'],\n",
       " ['dr.', 'vikram', 'sarabhai', 'dept', '.'],\n",
       " ['space',\n",
       "  ',',\n",
       "  'professor',\n",
       "  'satish',\n",
       "  'dhawan',\n",
       "  ',',\n",
       "  'succeeded',\n",
       "  'dr.',\n",
       "  'brahm',\n",
       "  'prakash',\n",
       "  ',',\n",
       "  'father',\n",
       "  'nuclear',\n",
       "  'material',\n",
       "  '.'],\n",
       " ['lucky',\n",
       "  'worked',\n",
       "  'three',\n",
       "  'closely',\n",
       "  'consider',\n",
       "  'great',\n",
       "  'opportunity',\n",
       "  'life',\n",
       "  '.'],\n",
       " ['see', 'four', 'milestones', 'career']]"
      ]
     },
     "execution_count": 16,
     "metadata": {},
     "output_type": "execute_result"
    }
   ],
   "source": [
    "sentences"
   ]
  },
  {
   "cell_type": "markdown",
   "metadata": {},
   "source": [
    "### Training Word2Vec model"
   ]
  },
  {
   "cell_type": "code",
   "execution_count": null,
   "metadata": {},
   "outputs": [],
   "source": [
    "import gensim\n",
    "from gensim.models import Word2Vec"
   ]
  },
  {
   "cell_type": "code",
   "execution_count": 19,
   "metadata": {},
   "outputs": [],
   "source": [
    "model = Word2Vec(sentences, min_count=1)"
   ]
  },
  {
   "cell_type": "code",
   "execution_count": 20,
   "metadata": {},
   "outputs": [],
   "source": [
    "words = model.wv.vocab"
   ]
  },
  {
   "cell_type": "code",
   "execution_count": 21,
   "metadata": {},
   "outputs": [
    {
     "data": {
      "text/plain": [
       "{'three': <gensim.models.keyedvectors.Vocab at 0x2b1f341a8d0>,\n",
       " 'visions': <gensim.models.keyedvectors.Vocab at 0x2b1f341ab38>,\n",
       " 'india': <gensim.models.keyedvectors.Vocab at 0x2b1f341ac88>,\n",
       " '.': <gensim.models.keyedvectors.Vocab at 0x2b1f341ada0>,\n",
       " 'years': <gensim.models.keyedvectors.Vocab at 0x2b1f341ae10>,\n",
       " 'history': <gensim.models.keyedvectors.Vocab at 0x2b1f341a710>,\n",
       " ',': <gensim.models.keyedvectors.Vocab at 0x2b1f341a860>,\n",
       " 'people': <gensim.models.keyedvectors.Vocab at 0x2b1f322f3c8>,\n",
       " 'world': <gensim.models.keyedvectors.Vocab at 0x2b1f322f2b0>,\n",
       " 'come': <gensim.models.keyedvectors.Vocab at 0x2b1f322f358>,\n",
       " 'invaded': <gensim.models.keyedvectors.Vocab at 0x2b1f322f588>,\n",
       " 'us': <gensim.models.keyedvectors.Vocab at 0x2b1f322fb38>,\n",
       " 'captured': <gensim.models.keyedvectors.Vocab at 0x2b1f322fc18>,\n",
       " 'lands': <gensim.models.keyedvectors.Vocab at 0x2b1f322fd68>,\n",
       " 'conquered': <gensim.models.keyedvectors.Vocab at 0x2b1f322ff28>,\n",
       " 'minds': <gensim.models.keyedvectors.Vocab at 0x2b1f322f6d8>,\n",
       " 'alexander': <gensim.models.keyedvectors.Vocab at 0x2b1f39051d0>,\n",
       " 'onwards': <gensim.models.keyedvectors.Vocab at 0x2b1f3905240>,\n",
       " 'greeks': <gensim.models.keyedvectors.Vocab at 0x2b1f39052b0>,\n",
       " 'turks': <gensim.models.keyedvectors.Vocab at 0x2b1f3905320>,\n",
       " 'moguls': <gensim.models.keyedvectors.Vocab at 0x2b1f3905390>,\n",
       " 'portuguese': <gensim.models.keyedvectors.Vocab at 0x2b1f3905400>,\n",
       " 'british': <gensim.models.keyedvectors.Vocab at 0x2b1f3905470>,\n",
       " 'french': <gensim.models.keyedvectors.Vocab at 0x2b1f39054e0>,\n",
       " 'dutch': <gensim.models.keyedvectors.Vocab at 0x2b1f3905550>,\n",
       " 'came': <gensim.models.keyedvectors.Vocab at 0x2b1f39055c0>,\n",
       " 'looted': <gensim.models.keyedvectors.Vocab at 0x2b1f3905630>,\n",
       " 'took': <gensim.models.keyedvectors.Vocab at 0x2b1f39056a0>,\n",
       " 'yet': <gensim.models.keyedvectors.Vocab at 0x2b1f3905710>,\n",
       " 'done': <gensim.models.keyedvectors.Vocab at 0x2b1f3905780>,\n",
       " 'nation': <gensim.models.keyedvectors.Vocab at 0x2b1f39057f0>,\n",
       " 'anyone': <gensim.models.keyedvectors.Vocab at 0x2b1f3905860>,\n",
       " 'grabbed': <gensim.models.keyedvectors.Vocab at 0x2b1f39058d0>,\n",
       " 'land': <gensim.models.keyedvectors.Vocab at 0x2b1f3905940>,\n",
       " 'culture': <gensim.models.keyedvectors.Vocab at 0x2b1f39059b0>,\n",
       " 'tried': <gensim.models.keyedvectors.Vocab at 0x2b1f3905a20>,\n",
       " 'enforce': <gensim.models.keyedvectors.Vocab at 0x2b1f3905a90>,\n",
       " 'way': <gensim.models.keyedvectors.Vocab at 0x2b1f3905b00>,\n",
       " 'life': <gensim.models.keyedvectors.Vocab at 0x2b1f3905b70>,\n",
       " '?': <gensim.models.keyedvectors.Vocab at 0x2b1f3905be0>,\n",
       " 'respect': <gensim.models.keyedvectors.Vocab at 0x2b1f3905c50>,\n",
       " 'freedom': <gensim.models.keyedvectors.Vocab at 0x2b1f3905cc0>,\n",
       " 'others.that': <gensim.models.keyedvectors.Vocab at 0x2b1f3905d30>,\n",
       " 'first': <gensim.models.keyedvectors.Vocab at 0x2b1f3905da0>,\n",
       " 'vision': <gensim.models.keyedvectors.Vocab at 0x2b1f3905e10>,\n",
       " 'believe': <gensim.models.keyedvectors.Vocab at 0x2b1f3905e80>,\n",
       " 'got': <gensim.models.keyedvectors.Vocab at 0x2b1f3905ef0>,\n",
       " 'started': <gensim.models.keyedvectors.Vocab at 0x2b1f3905f60>,\n",
       " 'war': <gensim.models.keyedvectors.Vocab at 0x2b1f3905fd0>,\n",
       " 'independence': <gensim.models.keyedvectors.Vocab at 0x2b1f3904080>,\n",
       " 'must': <gensim.models.keyedvectors.Vocab at 0x2b1f39040f0>,\n",
       " 'protect': <gensim.models.keyedvectors.Vocab at 0x2b1f3904160>,\n",
       " 'nurture': <gensim.models.keyedvectors.Vocab at 0x2b1f39041d0>,\n",
       " 'build': <gensim.models.keyedvectors.Vocab at 0x2b1f3906710>,\n",
       " 'free': <gensim.models.keyedvectors.Vocab at 0x2b1f3906dd8>,\n",
       " 'one': <gensim.models.keyedvectors.Vocab at 0x2b1f3906e10>,\n",
       " 'second': <gensim.models.keyedvectors.Vocab at 0x2b1f3906e80>,\n",
       " '’': <gensim.models.keyedvectors.Vocab at 0x2b1f3906ef0>,\n",
       " 'development': <gensim.models.keyedvectors.Vocab at 0x2b1f3906f60>,\n",
       " 'fifty': <gensim.models.keyedvectors.Vocab at 0x2b1f3906fd0>,\n",
       " 'developing': <gensim.models.keyedvectors.Vocab at 0x2b1f391da90>,\n",
       " 'time': <gensim.models.keyedvectors.Vocab at 0x2b1f391dd30>,\n",
       " 'see': <gensim.models.keyedvectors.Vocab at 0x2b1f391dda0>,\n",
       " 'developed': <gensim.models.keyedvectors.Vocab at 0x2b1f391de10>,\n",
       " 'among': <gensim.models.keyedvectors.Vocab at 0x2b1f391de80>,\n",
       " 'top': <gensim.models.keyedvectors.Vocab at 0x2b1f391dbe0>,\n",
       " 'nations': <gensim.models.keyedvectors.Vocab at 0x2b1f392b080>,\n",
       " 'terms': <gensim.models.keyedvectors.Vocab at 0x2b1f392b0f0>,\n",
       " 'gdp': <gensim.models.keyedvectors.Vocab at 0x2b1f392b160>,\n",
       " 'percent': <gensim.models.keyedvectors.Vocab at 0x2b1f392b1d0>,\n",
       " 'growth': <gensim.models.keyedvectors.Vocab at 0x2b1f392b240>,\n",
       " 'rate': <gensim.models.keyedvectors.Vocab at 0x2b1f392b2b0>,\n",
       " 'areas': <gensim.models.keyedvectors.Vocab at 0x2b1f392b320>,\n",
       " 'poverty': <gensim.models.keyedvectors.Vocab at 0x2b1f392b390>,\n",
       " 'levels': <gensim.models.keyedvectors.Vocab at 0x2b1f392b400>,\n",
       " 'falling': <gensim.models.keyedvectors.Vocab at 0x2b1f392b470>,\n",
       " 'achievements': <gensim.models.keyedvectors.Vocab at 0x2b1f392b4e0>,\n",
       " 'globally': <gensim.models.keyedvectors.Vocab at 0x2b1f392b550>,\n",
       " 'recognised': <gensim.models.keyedvectors.Vocab at 0x2b1f392b5c0>,\n",
       " 'today': <gensim.models.keyedvectors.Vocab at 0x2b1f392b630>,\n",
       " 'lack': <gensim.models.keyedvectors.Vocab at 0x2b1f392b6a0>,\n",
       " 'self-confidence': <gensim.models.keyedvectors.Vocab at 0x2b1f392b710>,\n",
       " 'self-reliant': <gensim.models.keyedvectors.Vocab at 0x2b1f392b780>,\n",
       " 'self-assured': <gensim.models.keyedvectors.Vocab at 0x2b1f392b978>,\n",
       " 'incorrect': <gensim.models.keyedvectors.Vocab at 0x2b1f392ba90>,\n",
       " 'third': <gensim.models.keyedvectors.Vocab at 0x2b1f392bac8>,\n",
       " 'stand': <gensim.models.keyedvectors.Vocab at 0x2b1f392bb00>,\n",
       " 'unless': <gensim.models.keyedvectors.Vocab at 0x2b1f392bb38>,\n",
       " 'stands': <gensim.models.keyedvectors.Vocab at 0x2b1f392bb70>,\n",
       " 'strength': <gensim.models.keyedvectors.Vocab at 0x2b1f392bba8>,\n",
       " 'respects': <gensim.models.keyedvectors.Vocab at 0x2b1f392bbe0>,\n",
       " 'strong': <gensim.models.keyedvectors.Vocab at 0x2b1f392bc18>,\n",
       " 'military': <gensim.models.keyedvectors.Vocab at 0x2b1f392bc50>,\n",
       " 'power': <gensim.models.keyedvectors.Vocab at 0x2b1f392bc88>,\n",
       " 'also': <gensim.models.keyedvectors.Vocab at 0x2b1f392bcc0>,\n",
       " 'economic': <gensim.models.keyedvectors.Vocab at 0x2b1f392bcf8>,\n",
       " 'go': <gensim.models.keyedvectors.Vocab at 0x2b1f392bd30>,\n",
       " 'hand-in-hand': <gensim.models.keyedvectors.Vocab at 0x2b1f392bd68>,\n",
       " 'good': <gensim.models.keyedvectors.Vocab at 0x2b1f392bda0>,\n",
       " 'fortune': <gensim.models.keyedvectors.Vocab at 0x2b1f392bdd8>,\n",
       " 'worked': <gensim.models.keyedvectors.Vocab at 0x2b1f392be10>,\n",
       " 'great': <gensim.models.keyedvectors.Vocab at 0x2b1f392be48>,\n",
       " 'dr.': <gensim.models.keyedvectors.Vocab at 0x2b1f392be80>,\n",
       " 'vikram': <gensim.models.keyedvectors.Vocab at 0x2b1f392beb8>,\n",
       " 'sarabhai': <gensim.models.keyedvectors.Vocab at 0x2b1f392bef0>,\n",
       " 'dept': <gensim.models.keyedvectors.Vocab at 0x2b1f392bf28>,\n",
       " 'space': <gensim.models.keyedvectors.Vocab at 0x2b1f392bf60>,\n",
       " 'professor': <gensim.models.keyedvectors.Vocab at 0x2b1f392bf98>,\n",
       " 'satish': <gensim.models.keyedvectors.Vocab at 0x2b1f392bfd0>,\n",
       " 'dhawan': <gensim.models.keyedvectors.Vocab at 0x2b1f390b048>,\n",
       " 'succeeded': <gensim.models.keyedvectors.Vocab at 0x2b1f390b080>,\n",
       " 'brahm': <gensim.models.keyedvectors.Vocab at 0x2b1f390b0b8>,\n",
       " 'prakash': <gensim.models.keyedvectors.Vocab at 0x2b1f390b0f0>,\n",
       " 'father': <gensim.models.keyedvectors.Vocab at 0x2b1f390b128>,\n",
       " 'nuclear': <gensim.models.keyedvectors.Vocab at 0x2b1f390b160>,\n",
       " 'material': <gensim.models.keyedvectors.Vocab at 0x2b1f390b198>,\n",
       " 'lucky': <gensim.models.keyedvectors.Vocab at 0x2b1f390b1d0>,\n",
       " 'closely': <gensim.models.keyedvectors.Vocab at 0x2b1f390b208>,\n",
       " 'consider': <gensim.models.keyedvectors.Vocab at 0x2b1f390b240>,\n",
       " 'opportunity': <gensim.models.keyedvectors.Vocab at 0x2b1f390b278>,\n",
       " 'four': <gensim.models.keyedvectors.Vocab at 0x2b1f390b2b0>,\n",
       " 'milestones': <gensim.models.keyedvectors.Vocab at 0x2b1f390b2e8>,\n",
       " 'career': <gensim.models.keyedvectors.Vocab at 0x2b1f390b320>}"
      ]
     },
     "execution_count": 21,
     "metadata": {},
     "output_type": "execute_result"
    }
   ],
   "source": [
    "words"
   ]
  },
  {
   "cell_type": "code",
   "execution_count": 24,
   "metadata": {},
   "outputs": [
    {
     "data": {
      "text/plain": [
       "(100,)"
      ]
     },
     "execution_count": 24,
     "metadata": {},
     "output_type": "execute_result"
    }
   ],
   "source": [
    "#Finding word vector\n",
    "vector = model.wv['india']"
   ]
  },
  {
   "cell_type": "code",
   "execution_count": 25,
   "metadata": {},
   "outputs": [
    {
     "data": {
      "text/plain": [
       "[('independence', 0.21042969822883606),\n",
       " ('fortune', 0.1924542784690857),\n",
       " ('also', 0.1874198019504547),\n",
       " ('incorrect', 0.1826488971710205),\n",
       " ('self-reliant', 0.18175341188907623),\n",
       " ('top', 0.18103423714637756),\n",
       " ('opportunity', 0.18100474774837494),\n",
       " ('time', 0.1678868979215622),\n",
       " ('military', 0.14795434474945068),\n",
       " ('rate', 0.13101868331432343)]"
      ]
     },
     "execution_count": 25,
     "metadata": {},
     "output_type": "execute_result"
    }
   ],
   "source": [
    "similar = model.wv.most_similar('india')\n",
    "similar"
   ]
  }
 ],
 "metadata": {
  "kernelspec": {
   "display_name": "Python 3",
   "language": "python",
   "name": "python3"
  },
  "language_info": {
   "codemirror_mode": {
    "name": "ipython",
    "version": 3
   },
   "file_extension": ".py",
   "mimetype": "text/x-python",
   "name": "python",
   "nbconvert_exporter": "python",
   "pygments_lexer": "ipython3",
   "version": "3.7.3"
  }
 },
 "nbformat": 4,
 "nbformat_minor": 4
}
